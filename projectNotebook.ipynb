{
 "cells": [
  {
   "cell_type": "code",
   "execution_count": 1,
   "metadata": {},
   "outputs": [],
   "source": [
    "import numpy as np\n",
    "import pandas as pd\n",
    "import seaborn as sns\n",
    "import cv2\n",
    "import os"
   ]
  },
  {
   "cell_type": "code",
   "execution_count": 2,
   "metadata": {},
   "outputs": [],
   "source": [
    "def img_to_df(path, label):\n",
    "    \"\"\"\n",
    "    read the images in the given path and label with the given label returning a dataframe\n",
    "\n",
    "    Parameters:\n",
    "    path (str): path to the images\n",
    "    label (str): label for the images\n",
    "\n",
    "    Returns:\n",
    "    df (pandas.DataFrame): dataframe with the images and the label\n",
    "    \"\"\"\n",
    "    df = pd.DataFrame(columns=['image', 'label'])\n",
    "    for img_name in os.listdir(path):\n",
    "        img = cv2.imread(os.path.join(path, img_name))\n",
    "        df = df.append({'image': img[:,:,0], 'label': label}, ignore_index=True)\n",
    "    return df    "
   ]
  },
  {
   "cell_type": "code",
   "execution_count": 3,
   "metadata": {},
   "outputs": [],
   "source": [
    "train_angry = img_to_df('images/images/train/angry', 'angry')\n",
    "train_disgust = img_to_df('images/images/train/disgust', 'disgust')\n",
    "train_fear = img_to_df('images/images/train/fear', 'fear')\n",
    "train_happy = img_to_df('images/images/train/happy', 'happy')\n",
    "train_neutral = img_to_df('images/images/train/neutral', 'neutral')\n",
    "train_sad = img_to_df('images/images/train/sad', 'sad')\n",
    "train_surprise = img_to_df('images/images/train/surprise', 'surprise')\n",
    "\n",
    "# join all the training data\n",
    "train_df = pd.concat([train_angry, train_disgust, train_fear, train_happy, train_neutral, train_sad, train_surprise])\n"
   ]
  },
  {
   "cell_type": "code",
   "execution_count": 4,
   "metadata": {},
   "outputs": [
    {
     "name": "stdout",
     "output_type": "stream",
     "text": [
      "Train data contains 28821 images\n"
     ]
    }
   ],
   "source": [
    "print(f'Train data contains {train_df.shape[0]} images')"
   ]
  },
  {
   "cell_type": "code",
   "execution_count": 5,
   "metadata": {},
   "outputs": [
    {
     "data": {
      "image/png": "[encoded data removed]",
      "text/plain": [
       "<Figure size 432x288 with 1 Axes>"
      ]
     },
     "metadata": {
      "needs_background": "light"
     },
     "output_type": "display_data"
    }
   ],
   "source": [
    "# plot the distribution of the labels for the training data\n",
    "sns.countplot(train_df['label']);\n",
    "\n"
   ]
  },
  {
   "cell_type": "code",
   "execution_count": 6,
   "metadata": {},
   "outputs": [],
   "source": [
    "# validation data\n",
    "valid_angry = img_to_df('images/images/validation/angry', 'angry')\n",
    "valid_disgust = img_to_df('images/images/validation/disgust', 'disgust')\n",
    "valid_fear = img_to_df('images/images/validation/fear', 'fear')\n",
    "valid_happy = img_to_df('images/images/validation/happy', 'happy')\n",
    "valid_neutral = img_to_df('images/images/validation/neutral', 'neutral')\n",
    "valid_sad = img_to_df('images/images/validation/sad', 'sad')\n",
    "valid_surprise = img_to_df('images/images/validation/surprise', 'surprise')\n",
    "\n",
    "# all the validation data\n",
    "valid_df = pd.concat([valid_angry, valid_disgust, valid_fear, valid_happy, valid_neutral, valid_sad, valid_surprise])"
   ]
  },
  {
   "cell_type": "code",
   "execution_count": 7,
   "metadata": {},
   "outputs": [
    {
     "name": "stdout",
     "output_type": "stream",
     "text": [
      "Validation data contains 7066 images\n"
     ]
    }
   ],
   "source": [
    "print(f'Validation data contains {valid_df.shape[0]} images')"
   ]
  },
  {
   "cell_type": "code",
   "execution_count": 8,
   "metadata": {},
   "outputs": [
    {
     "data": {
      "image/png": "[encoded data removed]",
      "text/plain": [
       "<Figure size 432x288 with 1 Axes>"
      ]
     },
     "metadata": {
      "needs_background": "light"
     },
     "output_type": "display_data"
    }
   ],
   "source": [
    "# plot the distribution of the labels for the validation data\n",
    "sns.countplot(valid_df['label']);\n"
   ]
  },
  {
   "cell_type": "code",
   "execution_count": 9,
   "metadata": {},
   "outputs": [],
   "source": [
    "all_imgs_df = pd.concat([train_df, valid_df])"
   ]
  },
  {
   "cell_type": "code",
   "execution_count": 12,
   "metadata": {},
   "outputs": [
    {
     "name": "stdout",
     "output_type": "stream",
     "text": [
      "The data contains 35887 images\n"
     ]
    }
   ],
   "source": [
    "print(f'The data contains {all_imgs_df.shape[0]} images')"
   ]
  },
  {
   "cell_type": "code",
   "execution_count": 10,
   "metadata": {},
   "outputs": [
    {
     "data": {
      "image/png": "[encoded data removed]",
      "text/plain": [
       "<Figure size 432x288 with 1 Axes>"
      ]
     },
     "metadata": {
      "needs_background": "light"
     },
     "output_type": "display_data"
    }
   ],
   "source": [
    "# plot the distribution of the labels for all the data\n",
    "sns.countplot(all_imgs_df['label']);"
   ]
  },
  {
   "cell_type": "code",
   "execution_count": 11,
   "metadata": {},
   "outputs": [],
   "source": [
    "# save the dataframe as a csv file\n",
    "all_imgs_df.to_csv('./data/all_imgs_df.csv')\n",
    "train_df.to_csv('./data/train_df.csv')\n",
    "valid_df.to_csv('./data/valid_df.csv')"
   ]
  },
  {
   "cell_type": "code",
   "execution_count": null,
   "metadata": {},
   "outputs": [],
   "source": []
  }
 ],
 "metadata": {
  "interpreter": {
   "hash": "6d231a452a04fb4ecff820f3f41cd94d9e5e7f9070785afea61119bc7227e50f"
  },
  "kernelspec": {
   "display_name": "Python 3.8.3 ('base')",
   "language": "python",
   "name": "python3"
  },
  "language_info": {
   "codemirror_mode": {
    "name": "ipython",
    "version": 3
   },
   "file_extension": ".py",
   "mimetype": "text/x-python",
   "name": "python",
   "nbconvert_exporter": "python",
   "pygments_lexer": "ipython3",
   "version": "3.8.3"
  },
  "orig_nbformat": 4
 },
 "nbformat": 4,
 "nbformat_minor": 2
}
